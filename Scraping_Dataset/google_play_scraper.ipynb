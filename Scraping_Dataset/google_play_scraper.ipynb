{
 "cells": [
  {
   "cell_type": "code",
   "execution_count": 1,
   "metadata": {},
   "outputs": [
    {
     "ename": "ModuleNotFoundError",
     "evalue": "No module named 'google_play_scraper'",
     "output_type": "error",
     "traceback": [
      "\u001b[1;31m---------------------------------------------------------------------------\u001b[0m",
      "\u001b[1;31mModuleNotFoundError\u001b[0m                       Traceback (most recent call last)",
      "Cell \u001b[1;32mIn[1], line 1\u001b[0m\n\u001b[1;32m----> 1\u001b[0m \u001b[38;5;28;01mfrom\u001b[39;00m \u001b[38;5;21;01mgoogle_play_scraper\u001b[39;00m \u001b[38;5;28;01mimport\u001b[39;00m Sort, reviews_all\n\u001b[0;32m      2\u001b[0m \u001b[38;5;28;01mimport\u001b[39;00m \u001b[38;5;21;01mpandas\u001b[39;00m \u001b[38;5;28;01mas\u001b[39;00m \u001b[38;5;21;01mpd\u001b[39;00m\n\u001b[0;32m      4\u001b[0m \u001b[38;5;66;03m# List of app package names\u001b[39;00m\n",
      "\u001b[1;31mModuleNotFoundError\u001b[0m: No module named 'google_play_scraper'"
     ]
    }
   ],
   "source": [
    "from google_play_scraper import Sort, reviews_all\n",
    "import pandas as pd\n",
    "\n",
    "# List of app package names\n",
    "names = [\n",
    "    'com.kopikenangan',\n",
    "    'com.jiwa.jiwagroup',\n",
    "    'com.tomoro.indonesia.android',\n",
    "    'coffee.fore2.fore',\n",
    "    'com.jagocoffee.app',\n",
    "    'com.starbucks.id'\n",
    "]\n",
    "\n",
    "# List of languages to scrape reviews for\n",
    "languages = ['en', 'id']\n",
    "\n",
    "# Loop over each app name\n",
    "for name in names:\n",
    "    print(f\"Scraping reviews for app: {name}\")\n",
    "    \n",
    "    # Prepare an empty list to store all reviews for this app\n",
    "    all_reviews = []\n",
    "\n",
    "    # Loop over each language\n",
    "    for lang in languages:\n",
    "        try:\n",
    "            print(f\"Scraping reviews in language: {lang.upper()} for app: {name}\")\n",
    "            \n",
    "            # Fetch reviews for the app in the given language and country\n",
    "            reviews = reviews_all(\n",
    "                name,  # App package name\n",
    "                sleep_milliseconds=0,  # Adjust if needed\n",
    "                lang=lang,  # Language of the reviews\n",
    "                country='id',  # Country code (Indonesia)\n",
    "                sort=Sort.NEWEST,  # Sort by newest reviews\n",
    "            )\n",
    "\n",
    "            # Add the reviews to the all_reviews list\n",
    "            all_reviews.extend(reviews)\n",
    "\n",
    "        except Exception as e:\n",
    "            print(f\"Error scraping reviews for app {name} in language {lang.upper()}: {e}\")\n",
    "\n",
    "    # Print the total number of reviews collected for this app\n",
    "    print(f\"Total reviews collected for {name}: {len(all_reviews)}\")\n",
    "    \n",
    "    # Save reviews to a CSV file\n",
    "    if all_reviews:\n",
    "        df = pd.DataFrame(all_reviews)\n",
    "        df.to_csv(f'{name}.csv', index=False)\n",
    "        print(f\"Reviews for {name} saved to '{name}.csv'\")\n",
    "    else:\n",
    "        print(f\"No reviews found for {name}\")\n"
   ]
  },
  {
   "cell_type": "code",
   "execution_count": 2,
   "metadata": {},
   "outputs": [],
   "source": [
    "import pandas as pd\n",
    "kopi_kenangan=pd.read_csv('com.kopikenangan.csv').dropna(subset='content')\n",
    "janji_jiwa=pd.read_csv('com.jiwa.jiwagroup.csv').dropna(subset='content')\n",
    "tomoro_indonesia=pd.read_csv('com.tomoro.indonesia.android.csv').dropna(subset='content')\n",
    "coffee_fore=pd.read_csv('coffee.fore2.fore.csv').dropna(subset='content')\n",
    "jago_coffee=pd.read_csv('com.jagocoffee.app.csv').dropna(subset='content')\n",
    "starbuck_id=pd.read_csv('com.starbucks.id.csv').dropna(subset='content')"
   ]
  },
  {
   "cell_type": "code",
   "execution_count": null,
   "metadata": {},
   "outputs": [],
   "source": [
    "pd.concat()"
   ]
  },
  {
   "cell_type": "code",
   "execution_count": 3,
   "metadata": {},
   "outputs": [
    {
     "name": "stdout",
     "output_type": "stream",
     "text": [
      "<class 'pandas.core.frame.DataFrame'>\n",
      "RangeIndex: 9421 entries, 0 to 9420\n",
      "Data columns (total 11 columns):\n",
      " #   Column                Non-Null Count  Dtype \n",
      "---  ------                --------------  ----- \n",
      " 0   reviewId              9421 non-null   object\n",
      " 1   userName              9421 non-null   object\n",
      " 2   userImage             9421 non-null   object\n",
      " 3   content               9421 non-null   object\n",
      " 4   score                 9421 non-null   int64 \n",
      " 5   thumbsUpCount         9421 non-null   int64 \n",
      " 6   reviewCreatedVersion  8308 non-null   object\n",
      " 7   at                    9421 non-null   object\n",
      " 8   replyContent          9415 non-null   object\n",
      " 9   repliedAt             9415 non-null   object\n",
      " 10  appVersion            8308 non-null   object\n",
      "dtypes: int64(2), object(9)\n",
      "memory usage: 809.7+ KB\n"
     ]
    }
   ],
   "source": [
    "coffee_fore.info()"
   ]
  },
  {
   "cell_type": "code",
   "execution_count": null,
   "metadata": {},
   "outputs": [],
   "source": [
    "#nah bingung mau diapakah wkwkwk\n",
    "#LDA sentiment analysis itu old banget yang terbaru itu absa. fuzzy, feature"
   ]
  }
 ],
 "metadata": {
  "kernelspec": {
   "display_name": "nltk_vnv",
   "language": "python",
   "name": "python3"
  },
  "language_info": {
   "codemirror_mode": {
    "name": "ipython",
    "version": 3
   },
   "file_extension": ".py",
   "mimetype": "text/x-python",
   "name": "python",
   "nbconvert_exporter": "python",
   "pygments_lexer": "ipython3",
   "version": "3.12.0"
  }
 },
 "nbformat": 4,
 "nbformat_minor": 2
}
